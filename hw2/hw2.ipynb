{
  "cells": [
    {
      "cell_type": "code",
      "execution_count": 105,
      "metadata": {
        "id": "8TTb-NKNREHw"
      },
      "outputs": [],
      "source": [
        "import json\n",
        "import random\n",
        "from tqdm import tqdm\n",
        "import numpy as np\n",
        "\n",
        "from matplotlib import pyplot as plt\n",
        "from sklearn.decomposition import TruncatedSVD\n",
        "from sklearn.manifold import TSNE\n",
        "\n",
        "import torch\n",
        "\n",
        "from pylab import rcParams\n",
        "rcParams['figure.figsize'] = 15, 15"
      ]
    },
    {
      "cell_type": "code",
      "execution_count": 106,
      "metadata": {
        "id": "ADb4rv9eREHy"
      },
      "outputs": [],
      "source": [
        "with open('processed_corpus.json', encoding = 'utf-8') as f:\n",
        "    corpus = json.load(f)"
      ]
    },
    {
      "cell_type": "code",
      "execution_count": 107,
      "metadata": {
        "id": "4ENHpK2wREHz"
      },
      "outputs": [],
      "source": [
        "word2index = {}\n",
        "\n",
        "for text in corpus:\n",
        "    for token in text:\n",
        "        if token not in word2index:\n",
        "            word2index[token] = len(word2index)"
      ]
    },
    {
      "cell_type": "code",
      "execution_count": 108,
      "metadata": {
        "id": "UQOV_trWREHz"
      },
      "outputs": [],
      "source": [
        "from torch.utils.data import Dataset, DataLoader\n",
        "\n",
        "class SkipgramDataset(Dataset):\n",
        "\n",
        "    def __init__(self,\n",
        "                 corpus,\n",
        "                 word2index,\n",
        "                 window=2,\n",
        "                 unk_token='UNK',\n",
        "                 collect_verbose=True):\n",
        "\n",
        "        self.corpus = corpus\n",
        "        self.word2index = word2index\n",
        "        self.index2word = {value: key for key, value in self.word2index.items()}\n",
        "        self.window = window\n",
        "\n",
        "        self.unk_token = unk_token\n",
        "        self.unk_index = self.word2index[self.unk_token]\n",
        "\n",
        "        #self.pad_index = len(self.word2index)\n",
        "\n",
        "        self.collect_verbose = collect_verbose\n",
        "\n",
        "        self.data = []\n",
        "\n",
        "        self.collect_data()\n",
        "\n",
        "    def __len__(self):\n",
        "        return len(self.data)\n",
        "\n",
        "    def _split_function(self, tokenized_text):     \n",
        "        splits = []\n",
        "        for ind, token in enumerate(tokenized_text):\n",
        "            if self.window > ind:\n",
        "                for i in range(0, ind):\n",
        "                    splits.append((tokenized_text[i], token))\n",
        "            else:\n",
        "                for i in range(ind - self.window, ind):\n",
        "                    splits.append((tokenized_text[i], token))\n",
        "            if self.window > len(tokenized_text) - ind - 1:\n",
        "                for i in range(ind+1, len(tokenized_text)):\n",
        "                    splits.append((tokenized_text[i], token))\n",
        "            else:\n",
        "                for i in range(ind + 1, ind + self.window + 1):\n",
        "                    splits.append((tokenized_text[i], token))\n",
        "        return splits\n",
        "\n",
        "    def indexing(self, tokenized_text):\n",
        "\n",
        "        return [self.word2index[token] if token in self.word2index else self.unk_index for token in tokenized_text]\n",
        "\n",
        "    def collect_data(self):\n",
        "        corpus = tqdm(self.corpus, disable=not self.collect_verbose)\n",
        "\n",
        "        for tokenized_text in corpus:\n",
        "            indexed_text = self.indexing(tokenized_text)\n",
        "            skipgram_examples = self._split_function(indexed_text)\n",
        "            self.data.extend(skipgram_examples)\n",
        "\n",
        "    def __getitem__(self, idx):\n",
        "        \n",
        "        context, central_word = self.data[idx]\n",
        "\n",
        "        return context, central_word"
      ]
    },
    {
      "cell_type": "code",
      "execution_count": 109,
      "metadata": {
        "colab": {
          "base_uri": "https://localhost:8080/"
        },
        "id": "Zu_e539CREH4",
        "outputId": "358d6bdf-a901-4f19-daf4-252d67b4edcb"
      },
      "outputs": [
        {
          "output_type": "stream",
          "name": "stderr",
          "text": [
            "100%|██████████| 100000/100000 [00:01<00:00, 52612.72it/s]\n"
          ]
        }
      ],
      "source": [
        "dataset = SkipgramDataset(corpus, word2index)\n",
        "import pickle\n",
        "f = open(r'file.txt', 'wb')\n",
        "pickle.dump(dataset, f)\n",
        "f.close()"
      ]
    },
    {
      "cell_type": "markdown",
      "source": [
        "При обучении увеличила batch size, увеличила lr, увеличила длину эмбеддинга и кол-во эпох. В результате mse уменьшился в два раза:"
      ],
      "metadata": {
        "id": "VM2aKC8QXf4H"
      }
    },
    {
      "cell_type": "code",
      "execution_count": 110,
      "metadata": {
        "id": "q76XAY_UREH7"
      },
      "outputs": [],
      "source": [
        "BATCH_SIZE = 812\n",
        "dataset_loader = DataLoader(dataset, shuffle=True, batch_size=BATCH_SIZE)"
      ]
    },
    {
      "cell_type": "code",
      "execution_count": 111,
      "metadata": {
        "id": "66LyeGxoREH8"
      },
      "outputs": [],
      "source": [
        "class SkipGram(torch.nn.Module):\n",
        "    def __init__(self, vocab_size, embedding_dim):\n",
        "        \n",
        "        super().__init__()\n",
        "        \n",
        "        self.in_embedding = torch.nn.Embedding(num_embeddings=vocab_size, \n",
        "                                               embedding_dim=embedding_dim)\n",
        "        \n",
        "        self.out_embedding = torch.nn.Linear(in_features=embedding_dim,\n",
        "                                             out_features=vocab_size, bias=False)\n",
        "        \n",
        "    def forward(self, x):\n",
        "        \n",
        "        x = self.in_embedding(x).sum(dim=-2)\n",
        "        x = self.out_embedding(x)\n",
        "        \n",
        "        return x"
      ]
    },
    {
      "cell_type": "code",
      "execution_count": 112,
      "metadata": {
        "id": "rjSZmcEWREH8"
      },
      "outputs": [],
      "source": [
        "EMBEDDING_DIM = 30\n",
        "model = SkipGram(vocab_size=len(word2index), embedding_dim=EMBEDDING_DIM)\n",
        "model=model.to(device = 'cuda')\n",
        "optimizer = torch.optim.Adam(params=model.parameters(), lr=0.01)\n",
        "criterion = torch.nn.CrossEntropyLoss()"
      ]
    },
    {
      "cell_type": "code",
      "execution_count": 113,
      "metadata": {
        "colab": {
          "base_uri": "https://localhost:8080/"
        },
        "id": "ZBmMPAlfREH9",
        "outputId": "6a6eba04-0abe-44bf-b485-448a0a268c3f"
      },
      "outputs": [
        {
          "output_type": "stream",
          "name": "stderr",
          "text": [
            "Epoch 1: 100%|██████████| 2983124/2983124 [00:32<00:00, 91558.82it/s, loss=6.82]\n",
            "Epoch 2: 100%|██████████| 2983124/2983124 [00:32<00:00, 91980.37it/s, loss=6.76]\n",
            "Epoch 3: 100%|██████████| 2983124/2983124 [00:32<00:00, 90910.95it/s, loss=6.71]\n",
            "Epoch 4: 100%|██████████| 2983124/2983124 [00:32<00:00, 91944.97it/s, loss=6.7]\n",
            "Epoch 5: 100%|██████████| 2983124/2983124 [00:32<00:00, 91771.57it/s, loss=6.69]\n",
            "Epoch 6: 100%|██████████| 2983124/2983124 [00:32<00:00, 90959.76it/s, loss=6.68]\n",
            "Epoch 7: 100%|██████████| 2983124/2983124 [00:32<00:00, 91889.74it/s, loss=6.68]\n",
            "Epoch 8: 100%|██████████| 2983124/2983124 [00:32<00:00, 90810.89it/s, loss=6.68]\n",
            "Epoch 9: 100%|██████████| 2983124/2983124 [00:32<00:00, 92014.40it/s, loss=6.68]\n",
            "Epoch 10: 100%|██████████| 2983124/2983124 [00:32<00:00, 90758.64it/s, loss=6.65]\n",
            "Epoch 11: 100%|██████████| 2983124/2983124 [00:33<00:00, 89829.35it/s, loss=6.67]\n",
            "Epoch 12: 100%|██████████| 2983124/2983124 [00:32<00:00, 91875.01it/s, loss=6.68]\n",
            "Epoch 13: 100%|██████████| 2983124/2983124 [00:33<00:00, 89791.34it/s, loss=6.66]\n",
            "Epoch 14: 100%|██████████| 2983124/2983124 [00:32<00:00, 91009.36it/s, loss=6.67]\n",
            "Epoch 15: 100%|██████████| 2983124/2983124 [00:32<00:00, 90727.64it/s, loss=6.67]\n"
          ]
        }
      ],
      "source": [
        "epochs = 15\n",
        "\n",
        "losses = []\n",
        "\n",
        "for n_epoch in range(epochs):\n",
        "\n",
        "    try:\n",
        "\n",
        "        progress_bar = tqdm(total=len(dataset_loader.dataset), desc='Epoch {}'.format(n_epoch + 1))\n",
        "\n",
        "        for x, y in dataset_loader:\n",
        "\n",
        "            x = x.view(x.shape[0], -1).to(device = 'cuda')\n",
        "            y = y.to(device = 'cuda')\n",
        "            optimizer.zero_grad()\n",
        "            pred = model(x)\n",
        "            loss = criterion(pred, y)\n",
        "            \n",
        "            loss.backward()\n",
        "\n",
        "            optimizer.step()\n",
        "            \n",
        "            losses.append(loss.item())\n",
        "            \n",
        "            progress_bar.set_postfix(loss=np.mean(losses[-100:]))\n",
        "            progress_bar.update(x.shape[0])\n",
        "\n",
        "        progress_bar.close()\n",
        "\n",
        "    except KeyboardInterrupt:\n",
        "\n",
        "        progress_bar.close()\n",
        "        break"
      ]
    },
    {
      "cell_type": "code",
      "source": [
        "plt.title('SkipGram Training Process')\n",
        "plt.xlabel('Itearations')\n",
        "plt.ylabel('Loss')\n",
        "plt.grid()\n",
        "plt.plot(losses)"
      ],
      "metadata": {
        "colab": {
          "base_uri": "https://localhost:8080/",
          "height": 880
        },
        "id": "ZIAXVL46gU8Q",
        "outputId": "1d8b5669-15c5-4941-c78d-2090b80768b6"
      },
      "execution_count": 114,
      "outputs": [
        {
          "output_type": "execute_result",
          "data": {
            "text/plain": [
              "[<matplotlib.lines.Line2D at 0x7fade23034d0>]"
            ]
          },
          "metadata": {},
          "execution_count": 114
        },
        {
          "output_type": "display_data",
          "data": {
            "text/plain": [
              "<Figure size 1080x1080 with 1 Axes>"
            ],
            "image/png": "[encoded data removed]"
          },
          "metadata": {
            "needs_background": "light"
          }
        }
      ]
    },
    {
      "cell_type": "code",
      "source": [
        "print(np.mean(losses[-1000:]))"
      ],
      "metadata": {
        "colab": {
          "base_uri": "https://localhost:8080/"
        },
        "id": "1IOPmfI9gf0n",
        "outputId": "246eac94-efb3-46e5-8b3b-e322a36ec2ec"
      },
      "execution_count": 115,
      "outputs": [
        {
          "output_type": "stream",
          "name": "stdout",
          "text": [
            "6.657708114147186\n"
          ]
        }
      ]
    },
    {
      "cell_type": "code",
      "source": [
        "embedding_matrix = model.in_embedding.weight.detach()"
      ],
      "metadata": {
        "id": "LQK0lNZQgoUG"
      },
      "execution_count": 116,
      "outputs": []
    },
    {
      "cell_type": "code",
      "source": [
        "def cos_sim(embedding_matrix, token2id, word1, word2):\n",
        "    \n",
        "    if word1 in token2id:\n",
        "        i1 = token2id[word1]\n",
        "    else:\n",
        "        i1 = token2id['UNK']\n",
        "    if word2 in token2id:\n",
        "        i2 = token2id[word2]\n",
        "    else:\n",
        "        i2 = token2id['UNK']\n",
        "    \n",
        "    v1, v2 = embedding_matrix[i1], embedding_matrix[i2]\n",
        "    \n",
        "    v1_n = v1.div(v1.norm(keepdim=True))\n",
        "    v2_n = v2.div(v2.norm(keepdim=True))\n",
        "    \n",
        "    similarity = torch.dot(v1_n, v2_n).item()\n",
        "    \n",
        "    return similarity"
      ],
      "metadata": {
        "id": "3FlWk2z5guvR"
      },
      "execution_count": 117,
      "outputs": []
    },
    {
      "cell_type": "code",
      "source": [
        "cos_sim(embedding_matrix, word2index, 'день', 'месяц')"
      ],
      "metadata": {
        "colab": {
          "base_uri": "https://localhost:8080/"
        },
        "id": "J0k-26PEgvco",
        "outputId": "5962769e-2e18-4c98-9c49-8e02820ad987"
      },
      "execution_count": 57,
      "outputs": [
        {
          "output_type": "execute_result",
          "data": {
            "text/plain": [
              "0.8399720788002014"
            ]
          },
          "metadata": {},
          "execution_count": 57
        }
      ]
    },
    {
      "cell_type": "code",
      "source": [
        "cos_sim(embedding_matrix, word2index, 'минута', 'месяц')"
      ],
      "metadata": {
        "colab": {
          "base_uri": "https://localhost:8080/"
        },
        "id": "okq8vRw2g-JS",
        "outputId": "df40a5a0-8c8a-415a-d5b2-b99ef016fbe4"
      },
      "execution_count": 58,
      "outputs": [
        {
          "output_type": "execute_result",
          "data": {
            "text/plain": [
              "0.6889187097549438"
            ]
          },
          "metadata": {},
          "execution_count": 58
        }
      ]
    },
    {
      "cell_type": "code",
      "source": [
        "cos_sim(embedding_matrix, word2index, 'сотрудник', 'сотрудница')"
      ],
      "metadata": {
        "colab": {
          "base_uri": "https://localhost:8080/"
        },
        "id": "Lg_75HPCg_yD",
        "outputId": "88fcc286-9c10-45a2-f87f-677f16cb6e53"
      },
      "execution_count": 59,
      "outputs": [
        {
          "output_type": "execute_result",
          "data": {
            "text/plain": [
              "0.8865103721618652"
            ]
          },
          "metadata": {},
          "execution_count": 59
        }
      ]
    },
    {
      "cell_type": "code",
      "source": [
        "cos_sim(embedding_matrix, word2index, 'вклад', 'перевод')"
      ],
      "metadata": {
        "colab": {
          "base_uri": "https://localhost:8080/"
        },
        "id": "o-PeqL9lhCoP",
        "outputId": "65807f2a-291b-4c07-b063-3cdc89f24f39"
      },
      "execution_count": 60,
      "outputs": [
        {
          "output_type": "execute_result",
          "data": {
            "text/plain": [
              "0.49937281012535095"
            ]
          },
          "metadata": {},
          "execution_count": 60
        }
      ]
    },
    {
      "cell_type": "code",
      "source": [
        "import pandas as pd\n",
        "import numpy as np\n",
        "from sklearn import preprocessing\n",
        "from sklearn.metrics import mean_squared_error\n",
        "data = pd.read_csv('ru_simlex965_tagged.tsv', sep = '\\t')\n",
        "sims = np.array(data['Average Score'].values)\n",
        "norm_sims = sims / 10\n",
        "words1 = [x.split('_')[0] for x in data['# Word1'].values]\n",
        "words2 = [x.split('_')[0] for x in data['Word2'].values]\n",
        "my_sims = []\n",
        "for i in range(len(words1)):\n",
        "    my_sims.append(cos_sim(embedding_matrix, word2index, words1[i], words2[i]))\n",
        "print(mean_squared_error(my_sims, norm_sims))\n"
      ],
      "metadata": {
        "colab": {
          "base_uri": "https://localhost:8080/"
        },
        "id": "U4UwfmBBk9cZ",
        "outputId": "18c4015f-51e5-4996-de53-09bc014d0fd0"
      },
      "execution_count": 118,
      "outputs": [
        {
          "output_type": "stream",
          "name": "stdout",
          "text": [
            "0.1678179523241035\n"
          ]
        }
      ]
    },
    {
      "cell_type": "code",
      "source": [
        "EMBEDDING_DIM = 10\n",
        "model = SkipGram(vocab_size=len(word2index), embedding_dim=EMBEDDING_DIM)\n",
        "model=model.to(device = 'cuda')\n",
        "optimizer = torch.optim.Adam(params=model.parameters(), lr=0.0001)\n",
        "criterion = torch.nn.CrossEntropyLoss()"
      ],
      "metadata": {
        "id": "JpUdqKq9SJyo"
      },
      "execution_count": 119,
      "outputs": []
    },
    {
      "cell_type": "code",
      "source": [
        "epochs = 3\n",
        "\n",
        "losses = []\n",
        "\n",
        "for n_epoch in range(epochs):\n",
        "\n",
        "    try:\n",
        "\n",
        "        progress_bar = tqdm(total=len(dataset_loader.dataset), desc='Epoch {}'.format(n_epoch + 1))\n",
        "\n",
        "        for x, y in dataset_loader:\n",
        "\n",
        "            x = x.view(x.shape[0], -1).to(device = 'cuda')\n",
        "            y = y.to(device = 'cuda')\n",
        "            optimizer.zero_grad()\n",
        "            pred = model(x)\n",
        "            loss = criterion(pred, y)\n",
        "            \n",
        "            loss.backward()\n",
        "\n",
        "            optimizer.step()\n",
        "            \n",
        "            losses.append(loss.item())\n",
        "            \n",
        "            progress_bar.set_postfix(loss=np.mean(losses[-100:]))\n",
        "            progress_bar.update(x.shape[0])\n",
        "\n",
        "        progress_bar.close()\n",
        "\n",
        "    except KeyboardInterrupt:\n",
        "\n",
        "        progress_bar.close()\n",
        "        break"
      ],
      "metadata": {
        "colab": {
          "base_uri": "https://localhost:8080/"
        },
        "id": "aVWDcQrCSa4q",
        "outputId": "4a16d936-3012-4b4d-9b25-0aba7cce03e0"
      },
      "execution_count": 120,
      "outputs": [
        {
          "output_type": "stream",
          "name": "stderr",
          "text": [
            "Epoch 1: 100%|██████████| 2983124/2983124 [00:32<00:00, 92277.75it/s, loss=9.45]\n",
            "Epoch 2: 100%|██████████| 2983124/2983124 [00:32<00:00, 92241.32it/s, loss=9.02]\n",
            "Epoch 3: 100%|██████████| 2983124/2983124 [00:32<00:00, 92303.45it/s, loss=8.42]\n"
          ]
        }
      ]
    },
    {
      "cell_type": "code",
      "source": [
        "embedding_matrix = model.in_embedding.weight.detach()\n",
        "my_sims = []\n",
        "for i in range(len(words1)):\n",
        "    my_sims.append(cos_sim(embedding_matrix, word2index, words1[i], words2[i]))\n",
        "print(mean_squared_error(my_sims, norm_sims))"
      ],
      "metadata": {
        "colab": {
          "base_uri": "https://localhost:8080/"
        },
        "id": "6xKRgQZxXQZk",
        "outputId": "0f81d322-e8d7-45fa-c981-29b27e76b492"
      },
      "execution_count": 122,
      "outputs": [
        {
          "output_type": "stream",
          "name": "stdout",
          "text": [
            "0.32745975877985517\n"
          ]
        }
      ]
    }
  ],
  "metadata": {
    "kernelspec": {
      "display_name": "Python 3.10.8 64-bit",
      "language": "python",
      "name": "python3"
    },
    "language_info": {
      "codemirror_mode": {
        "name": "ipython",
        "version": 3
      },
      "file_extension": ".py",
      "mimetype": "text/x-python",
      "name": "python",
      "nbconvert_exporter": "python",
      "pygments_lexer": "ipython3",
      "version": "3.10.8"
    },
    "orig_nbformat": 4,
    "vscode": {
      "interpreter": {
        "hash": "6d14f91597336588c429f58aaac29838098a40a03688d6438025d1510ae4a0cf"
      }
    },
    "colab": {
      "provenance": []
    },
    "accelerator": "GPU",
    "gpuClass": "standard"
  },
  "nbformat": 4,
  "nbformat_minor": 0
}